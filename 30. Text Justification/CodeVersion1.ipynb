{
 "cells": [
  {
   "attachments": {},
   "cell_type": "markdown",
   "metadata": {},
   "source": [
    "Problem : https://leetcode.com/problems/text-justification/"
   ]
  },
  {
   "cell_type": "code",
   "execution_count": null,
   "metadata": {},
   "outputs": [],
   "source": [
    "class Solution:\n",
    "    def fullJustify(self, words: List[str], maxWidth: int) -> List[str]:\n",
    "        output =[]\n",
    "        lineWords = []\n",
    "        charlen = 0\n",
    "        for i in range(len(words)):\n",
    "            if maxWidth-(charlen+len(words[i])) >= 0:\n",
    "                lineWords += [words[i] +\" \"]\n",
    "                charlen += len(words[i]) + 1\n",
    "                    \n",
    "            else:\n",
    "                lineWords[-1] = lineWords[-1][:-1]\n",
    "                charlen -=1\n",
    "                spaces = maxWidth-charlen\n",
    "                j = 0\n",
    "                while charlen < maxWidth:\n",
    "                    if j >= len(lineWords)-1:\n",
    "                        j = 0\n",
    "                    lineWords[j] += \" \"\n",
    "                    charlen += 1\n",
    "                    j += 1\n",
    "\n",
    "                line = \"\".join(lineWords)\n",
    "                output += [line]\n",
    "                lineWords = [words[i] + \" \"]\n",
    "                charlen = len(words[i])+1\n",
    "            if i == len(words)-1:\n",
    "                lineWords[-1] = lineWords[-1][:-1]\n",
    "                charlen -=1\n",
    "                for k in range(maxWidth-charlen):\n",
    "                    lineWords[-1] += \" \"\n",
    "                line = \"\".join(lineWords)\n",
    "                output += [line]\n",
    "                \n",
    "        return output"
   ]
  }
 ],
 "metadata": {
  "kernelspec": {
   "display_name": "Python 3",
   "language": "python",
   "name": "python3"
  },
  "language_info": {
   "name": "python",
   "version": "3.11.3"
  },
  "orig_nbformat": 4
 },
 "nbformat": 4,
 "nbformat_minor": 2
}
