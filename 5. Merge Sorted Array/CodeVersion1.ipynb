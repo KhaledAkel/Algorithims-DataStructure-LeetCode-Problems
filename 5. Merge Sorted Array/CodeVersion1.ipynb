{
 "cells": [
  {
   "attachments": {},
   "cell_type": "markdown",
   "metadata": {},
   "source": [
    "$LeetCode$\n",
    "$Link:$ https://leetcode.com/problems/merge-sorted-array/description/"
   ]
  },
  {
   "cell_type": "code",
   "execution_count": null,
   "metadata": {},
   "outputs": [],
   "source": [
    "# Problem: Merge Sorted Array\n",
    "\n",
    "\n",
    "class Solution:\n",
    "    def merge(self, nums1: List[int], m: int, nums2: List[int], n: int) -> None:\n",
    "        \"\"\"\n",
    "        Do not return anything, modify nums1 in-place instead.\n",
    "        \"\"\"\n",
    "        \n",
    "        for i in range(n):\n",
    "            nums1[m] = nums2[i]\n",
    "            m += 1\n",
    "        self.BubbleSort(nums1)\n",
    "        return\n",
    "\n",
    "    def BubbleSort(self,nums1):\n",
    "        for j in range(len(nums1)):\n",
    "            for i in range(len(nums1)-1):\n",
    "                if nums1[i] > nums1[i+1]:\n",
    "                    k = nums1[i]\n",
    "                    nums1[i] = nums1[i+1]\n",
    "                    nums1[i+1] = k\n",
    "        return\n",
    "\n",
    "\n",
    "        \n"
   ]
  }
 ],
 "metadata": {
  "kernelspec": {
   "display_name": "Python 3",
   "language": "python",
   "name": "python3"
  },
  "language_info": {
   "name": "python",
   "version": "3.10.10 (tags/v3.10.10:aad5f6a, Feb  7 2023, 17:20:36) [MSC v.1929 64 bit (AMD64)]"
  },
  "orig_nbformat": 4,
  "vscode": {
   "interpreter": {
    "hash": "ec4363d6f1edb241da9638c8917a4c683d1f8dd7bb350a8ae0e94cf6964a07d9"
   }
  }
 },
 "nbformat": 4,
 "nbformat_minor": 2
}
