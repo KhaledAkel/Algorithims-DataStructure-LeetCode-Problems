{
 "cells": [
  {
   "attachments": {},
   "cell_type": "markdown",
   "metadata": {},
   "source": [
    "Problem Link: https://leetcode.com/problems/jump-game/description/"
   ]
  },
  {
   "cell_type": "code",
   "execution_count": 2,
   "metadata": {},
   "outputs": [],
   "source": [
    "# Jump Game II\n",
    "\n",
    "def jump(nums):\n",
    "    MinJumps = []\n",
    "    jumps = 0\n",
    "\n",
    "    def CheckPos(pos, MinJumps, jumps):\n",
    "        if pos == len(nums) - 1:\n",
    "            MinJumps.append(jumps)\n",
    "\n",
    "        lastStep = min(pos + nums[pos], len(nums) - 1)\n",
    "        for NextStep in range(pos + 1, lastStep + 1):\n",
    "            CheckPos(NextStep, MinJumps, jumps + 1)\n",
    "\n",
    "    CheckPos(0, MinJumps, jumps)\n",
    "    return min(MinJumps)"
   ]
  }
 ],
 "metadata": {
  "kernelspec": {
   "display_name": "Python 3",
   "language": "python",
   "name": "python3"
  },
  "language_info": {
   "codemirror_mode": {
    "name": "ipython",
    "version": 3
   },
   "file_extension": ".py",
   "mimetype": "text/x-python",
   "name": "python",
   "nbconvert_exporter": "python",
   "pygments_lexer": "ipython3",
   "version": "3.11.3"
  },
  "orig_nbformat": 4
 },
 "nbformat": 4,
 "nbformat_minor": 2
}
