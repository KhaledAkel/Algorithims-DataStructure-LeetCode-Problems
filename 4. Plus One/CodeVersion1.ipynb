{
 "cells": [
  {
   "attachments": {},
   "cell_type": "markdown",
   "metadata": {},
   "source": [
    "*LeetCode*\n",
    "*Link:* https://leetcode.com/problems/plus-one/description/"
   ]
  },
  {
   "cell_type": "code",
   "execution_count": null,
   "metadata": {},
   "outputs": [],
   "source": [
    "# Problem: Plus One\n",
    "\n",
    "\n",
    "class Solution:\n",
    "    def plusOne(self, digits: List[int]) -> List[int]:\n",
    "       \n",
    "               \n",
    "        strings = \"\"\n",
    "        for number in digits:\n",
    "            strings += str(number)\n",
    "\n",
    "        temp = str(int(strings) +1)\n",
    "\n",
    "        return [int(temp[i]) for i in range(len(temp))]\n",
    "\n",
    "\n"
   ]
  }
 ],
 "metadata": {
  "kernelspec": {
   "display_name": "Python 3",
   "language": "python",
   "name": "python3"
  },
  "language_info": {
   "name": "python",
   "version": "3.10.10 (tags/v3.10.10:aad5f6a, Feb  7 2023, 17:20:36) [MSC v.1929 64 bit (AMD64)]"
  },
  "orig_nbformat": 4,
  "vscode": {
   "interpreter": {
    "hash": "ec4363d6f1edb241da9638c8917a4c683d1f8dd7bb350a8ae0e94cf6964a07d9"
   }
  }
 },
 "nbformat": 4,
 "nbformat_minor": 2
}
