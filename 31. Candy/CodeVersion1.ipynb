{
 "cells": [
  {
   "attachments": {},
   "cell_type": "markdown",
   "metadata": {},
   "source": [
    "Problem : https://leetcode.com/problems/candy/"
   ]
  },
  {
   "cell_type": "code",
   "execution_count": null,
   "metadata": {},
   "outputs": [],
   "source": [
    "class Solution:\n",
    "    def candy(self, ratings: List[int]) -> int:\n",
    "        \n",
    "        candy = [1] * len(ratings)\n",
    "\n",
    "        for i in range(1, len(ratings)):\n",
    "            if ratings[i] > ratings[i-1]:\n",
    "                candy[i] = candy[i-1] + 1\n",
    "\n",
    "        for i in range(len(ratings)-2, -1, -1):\n",
    "            if ratings[i] > ratings[i+1] and candy[i] <= candy[i+1]:\n",
    "                candy[i] = candy[i+1] + 1\n",
    "\n",
    "        return sum(candy)\n"
   ]
  }
 ],
 "metadata": {
  "kernelspec": {
   "display_name": "Python 3",
   "language": "python",
   "name": "python3"
  },
  "language_info": {
   "name": "python",
   "version": "3.11.3"
  },
  "orig_nbformat": 4
 },
 "nbformat": 4,
 "nbformat_minor": 2
}
