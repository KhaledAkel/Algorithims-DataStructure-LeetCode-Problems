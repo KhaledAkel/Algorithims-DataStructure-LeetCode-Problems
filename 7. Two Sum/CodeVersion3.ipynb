{
 "cells": [
  {
   "attachments": {},
   "cell_type": "markdown",
   "metadata": {},
   "source": [
    "$LeetCode$\n",
    "$Link:$ https://leetcode.com/problems/two-sum/description/"
   ]
  },
  {
   "cell_type": "code",
   "execution_count": null,
   "metadata": {},
   "outputs": [],
   "source": [
    "# Two Sum\n",
    "\n",
    "class Solution:\n",
    "    def twoSum(self, nums: List[int], target: int) -> List[int]:\n",
    "\n",
    "        HashMap = {}\n",
    "        for i in range(len(nums)):\n",
    "            if (target - nums[i]) in HashMap:\n",
    "                return [HashMap[target-nums[i]],i]\n",
    "            HashMap[nums[i]] = i\n",
    "\n",
    "        "
   ]
  }
 ],
 "metadata": {
  "kernelspec": {
   "display_name": "Python 3",
   "language": "python",
   "name": "python3"
  },
  "language_info": {
   "codemirror_mode": {
    "name": "ipython",
    "version": 3
   },
   "file_extension": ".py",
   "mimetype": "text/x-python",
   "name": "python",
   "nbconvert_exporter": "python",
   "pygments_lexer": "ipython3",
   "version": "3.10.10 (tags/v3.10.10:aad5f6a, Feb  7 2023, 17:20:36) [MSC v.1929 64 bit (AMD64)]"
  },
  "orig_nbformat": 4,
  "vscode": {
   "interpreter": {
    "hash": "ec4363d6f1edb241da9638c8917a4c683d1f8dd7bb350a8ae0e94cf6964a07d9"
   }
  }
 },
 "nbformat": 4,
 "nbformat_minor": 2
}
