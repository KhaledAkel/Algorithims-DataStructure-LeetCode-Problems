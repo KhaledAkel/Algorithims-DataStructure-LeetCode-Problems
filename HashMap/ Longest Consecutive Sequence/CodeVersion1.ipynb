{
 "cells": [
  {
   "cell_type": "markdown",
   "metadata": {},
   "source": [
    "https://leetcode.com/problems/longest-consecutive-sequence/"
   ]
  },
  {
   "cell_type": "code",
   "execution_count": null,
   "metadata": {},
   "outputs": [],
   "source": [
    "class Solution:\n",
    "    def longestConsecutive(self, nums: List[int]) -> int:\n",
    "        numset=set(nums)\n",
    "        count=0\n",
    "        for n in nums:\n",
    "            if (n-1) not in numset:\n",
    "                length=0\n",
    "                while (n+length) in numset:\n",
    "                    length+=1\n",
    "                count=max(count,length)\n",
    "        return count"
   ]
  }
 ],
 "metadata": {
  "language_info": {
   "name": "python"
  },
  "orig_nbformat": 4
 },
 "nbformat": 4,
 "nbformat_minor": 2
}
