{
 "cells": [
  {
   "cell_type": "markdown",
   "metadata": {},
   "source": [
    "https://leetcode.com/problems/insert-interval/description/"
   ]
  },
  {
   "cell_type": "code",
   "execution_count": null,
   "metadata": {},
   "outputs": [],
   "source": [
    "class Solution:\n",
    "    def insert(self, intervals: List[List[int]], newInterval: List[int]) -> List[List[int]]:\n",
    "        start, end = newInterval[0], newInterval[-1]\n",
    "        output = []\n",
    "        inserted = False  # Flag to track if the new interval is inserted\n",
    "\n",
    "        if len(intervals) == 0:\n",
    "            return [newInterval]\n",
    "\n",
    "        for interval in intervals:\n",
    "            # If newInterval is inserted, simply append remaining intervals\n",
    "            if inserted:\n",
    "                output.append(interval)\n",
    "            # If newInterval is not yet inserted\n",
    "            else:\n",
    "                # If current interval ends before newInterval starts, add the current interval as it is\n",
    "                if interval[-1] < start:\n",
    "                    output.append(interval)\n",
    "                # If current interval starts after newInterval ends, insert newInterval and add the rest\n",
    "                elif interval[0] > end:\n",
    "                    output.append([start, end])\n",
    "                    output.append(interval)\n",
    "                    inserted = True\n",
    "                else:\n",
    "                    # If there's an overlap, update start and end accordingly\n",
    "                    start = min(start, interval[0])\n",
    "                    end = max(end, interval[-1])\n",
    "\n",
    "        # If newInterval has not been inserted yet (i.e., it comes after all existing intervals),\n",
    "        # add it at the end of the output list\n",
    "        if not inserted:\n",
    "            output.append([start, end])\n",
    "\n",
    "        return output"
   ]
  }
 ],
 "metadata": {
  "language_info": {
   "name": "python"
  },
  "orig_nbformat": 4
 },
 "nbformat": 4,
 "nbformat_minor": 2
}
