{
 "cells": [
  {
   "cell_type": "markdown",
   "metadata": {},
   "source": [
    "https://leetcode.com/problems/ransom-note/description/"
   ]
  },
  {
   "cell_type": "code",
   "execution_count": null,
   "metadata": {},
   "outputs": [],
   "source": [
    "class Solution:\n",
    "    def canConstruct(self, ransomNote: str, magazine: str) -> bool:\n",
    "\n",
    "        for char in ransomNote:\n",
    "            if char in magazine:\n",
    "                ransomNote = ransomNote.replace(char, \"\", 1)\n",
    "                magazine = magazine.replace(char,\"\", 1)\n",
    "                if len(ransomNote) == 0:\n",
    "                    return True\n",
    "            else: \n",
    "                return False "
   ]
  }
 ],
 "metadata": {
  "language_info": {
   "name": "python"
  },
  "orig_nbformat": 4
 },
 "nbformat": 4,
 "nbformat_minor": 2
}
