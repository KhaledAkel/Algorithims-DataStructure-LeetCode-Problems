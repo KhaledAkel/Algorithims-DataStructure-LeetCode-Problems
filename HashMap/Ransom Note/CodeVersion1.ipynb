{
 "cells": [
  {
   "cell_type": "markdown",
   "metadata": {},
   "source": [
    "https://leetcode.com/problems/ransom-note/"
   ]
  },
  {
   "cell_type": "code",
   "execution_count": null,
   "metadata": {},
   "outputs": [],
   "source": [
    "class Solution:\n",
    "    def canConstruct(self, ransomNote: str, magazine: str) -> bool:\n",
    "        HashMap = {}\n",
    "        count = 0\n",
    "\n",
    "        for letter in magazine:\n",
    "            if letter not in HashMap.keys():\n",
    "                HashMap[letter] = 0\n",
    "            HashMap[letter] += 1\n",
    "\n",
    "        for char in ransomNote:\n",
    "            if char in HashMap.keys():\n",
    "                HashMap[char] -= 1\n",
    "                if HashMap[char] >= 0:\n",
    "                    count += 1\n",
    "\n",
    "        return True if count == len(ransomNote) else False\n"
   ]
  }
 ],
 "metadata": {
  "language_info": {
   "name": "python"
  },
  "orig_nbformat": 4
 },
 "nbformat": 4,
 "nbformat_minor": 2
}
