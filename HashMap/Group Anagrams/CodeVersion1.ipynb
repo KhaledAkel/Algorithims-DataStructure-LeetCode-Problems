{
 "cells": [
  {
   "cell_type": "markdown",
   "metadata": {},
   "source": [
    "https://leetcode.com/problems/group-anagrams/"
   ]
  },
  {
   "cell_type": "code",
   "execution_count": null,
   "metadata": {},
   "outputs": [],
   "source": [
    "class Solution:\n",
    "    def groupAnagrams(self, strs: List[str]) -> List[List[str]]:\n",
    "        if len(strs) == 1:\n",
    "            return [[strs[0]]]\n",
    "\n",
    "        HashMap = dict()\n",
    "        output = []\n",
    "\n",
    "        for i in range(len(strs)):\n",
    "            word = ''.join(sorted(strs[i]))  # Convert the sorted list of characters back to a string\n",
    "            if word in HashMap:\n",
    "                HashMap[word].append(strs[i])\n",
    "            else:\n",
    "                HashMap[word] = [strs[i]]\n",
    "\n",
    "        for i in HashMap:\n",
    "            output.append(HashMap[i])\n",
    "\n",
    "        return output"
   ]
  }
 ],
 "metadata": {
  "language_info": {
   "name": "python"
  },
  "orig_nbformat": 4
 },
 "nbformat": 4,
 "nbformat_minor": 2
}
