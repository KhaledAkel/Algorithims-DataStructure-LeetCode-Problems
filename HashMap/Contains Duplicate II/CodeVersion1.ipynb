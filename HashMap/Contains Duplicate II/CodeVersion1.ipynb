{
 "cells": [
  {
   "cell_type": "markdown",
   "metadata": {},
   "source": [
    "https://leetcode.com/problems/contains-duplicate-ii/"
   ]
  },
  {
   "cell_type": "code",
   "execution_count": null,
   "metadata": {},
   "outputs": [],
   "source": [
    "class Solution:\n",
    "    def containsNearbyDuplicate(self, nums: List[int], k: int) -> bool:\n",
    "\n",
    "        hset = {}\n",
    "\n",
    "        for idx in range(len(nums)):\n",
    "\n",
    "            if nums[idx] in hset and abs(idx - hset[nums[idx]]) <= k:\n",
    "                return True\n",
    "            hset[nums[idx]] = idx\n",
    "\n",
    "        return False"
   ]
  }
 ],
 "metadata": {
  "language_info": {
   "name": "python"
  },
  "orig_nbformat": 4
 },
 "nbformat": 4,
 "nbformat_minor": 2
}
