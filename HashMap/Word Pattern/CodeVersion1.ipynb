{
 "cells": [
  {
   "cell_type": "markdown",
   "metadata": {},
   "source": [
    "https://leetcode.com/problems/word-pattern/"
   ]
  },
  {
   "cell_type": "code",
   "execution_count": null,
   "metadata": {},
   "outputs": [],
   "source": [
    "class Solution:\n",
    "    def wordPattern(self, pattern: str, s: str) -> bool:\n",
    "        patt = []\n",
    "        words = []\n",
    "\n",
    "        for char in pattern:\n",
    "            patt.append(pattern.index(char))\n",
    "        split = list(s.split(\" \"))\n",
    "        for word in split:\n",
    "            words.append(split.index(word))\n",
    "\n",
    "        if patt == words:\n",
    "            return True\n",
    "        else:\n",
    "            return False"
   ]
  }
 ],
 "metadata": {
  "language_info": {
   "name": "python"
  },
  "orig_nbformat": 4
 },
 "nbformat": 4,
 "nbformat_minor": 2
}
