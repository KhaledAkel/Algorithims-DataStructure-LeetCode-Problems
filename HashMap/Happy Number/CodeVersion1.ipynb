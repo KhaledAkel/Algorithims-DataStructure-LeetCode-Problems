{
 "cells": [
  {
   "cell_type": "markdown",
   "metadata": {},
   "source": [
    "https://leetcode.com/problems/happy-number/"
   ]
  },
  {
   "cell_type": "code",
   "execution_count": null,
   "metadata": {},
   "outputs": [],
   "source": [
    "class Solution:\n",
    "    def isHappy(self, n: int, visited=None) -> bool:\n",
    "        \n",
    "        if visited is None:\n",
    "            visited = set()  \n",
    "    \n",
    "        if n == 1:\n",
    "            return True\n",
    "        \n",
    "        if n in visited:\n",
    "            return False\n",
    "        \n",
    "        visited.add(n) \n",
    "        new_num = sum(int(digit) ** 2 for digit in str(n))\n",
    "        \n",
    "        return self.isHappy(new_num, visited)"
   ]
  }
 ],
 "metadata": {
  "language_info": {
   "name": "python"
  },
  "orig_nbformat": 4
 },
 "nbformat": 4,
 "nbformat_minor": 2
}
