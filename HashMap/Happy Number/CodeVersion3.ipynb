{
 "cells": [
  {
   "cell_type": "markdown",
   "metadata": {},
   "source": [
    "https://leetcode.com/problems/happy-number/"
   ]
  },
  {
   "cell_type": "code",
   "execution_count": null,
   "metadata": {},
   "outputs": [],
   "source": [
    "class Solution:\n",
    "    def isHappy(self, n: int) -> bool:\n",
    "        \n",
    "        for _ in range(10):\n",
    "            n = [int(x) for x in str(n)]\n",
    "            sum = 0\n",
    "            for i in n:\n",
    "                sum += i**2\n",
    "            if sum == 1:\n",
    "                return True\n",
    "            n = sum\n",
    "        \n",
    "        return False"
   ]
  }
 ],
 "metadata": {
  "language_info": {
   "name": "python"
  },
  "orig_nbformat": 4
 },
 "nbformat": 4,
 "nbformat_minor": 2
}
