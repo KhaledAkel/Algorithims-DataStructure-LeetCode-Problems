{
 "cells": [
  {
   "attachments": {},
   "cell_type": "markdown",
   "metadata": {},
   "source": [
    "Problem : https://leetcode.com/problems/zigzag-conversion/description/"
   ]
  },
  {
   "cell_type": "code",
   "execution_count": null,
   "metadata": {},
   "outputs": [],
   "source": [
    "class Solution:\n",
    "    def convert(self, s: str, numRows: int) -> str:\n",
    "        switch,j, count = 0,0,0\n",
    "        zigzag = [[] for _ in range(numRows)]\n",
    "        result = \"\"\n",
    "        if len(s) <=1 or numRows <= 1:\n",
    "            return s\n",
    "        for i in range(len(s)):\n",
    "            if count == numRows:\n",
    "                count = 1\n",
    "                if switch == 0:\n",
    "                    switch = 1\n",
    "                    j = -2\n",
    "                else:\n",
    "                    switch = 0\n",
    "                    j = 1\n",
    "            \n",
    "            if switch == 0:\n",
    "                zigzag[j] += [s[i]]\n",
    "                j += 1\n",
    "                count +=1\n",
    "            else:\n",
    "                zigzag[j] += [s[i]]\n",
    "                j -= 1\n",
    "                count +=1\n",
    "        for i in range(numRows):\n",
    "            result += \"\".join(zigzag[i])\n",
    "\n",
    "        return result "
   ]
  }
 ],
 "metadata": {
  "kernelspec": {
   "display_name": "Python 3",
   "language": "python",
   "name": "python3"
  },
  "language_info": {
   "name": "python",
   "version": "3.11.3"
  },
  "orig_nbformat": 4
 },
 "nbformat": 4,
 "nbformat_minor": 2
}
