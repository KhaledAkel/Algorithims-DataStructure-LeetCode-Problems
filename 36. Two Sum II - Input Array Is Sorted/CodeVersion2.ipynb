{
 "cells": [
  {
   "attachments": {},
   "cell_type": "markdown",
   "metadata": {},
   "source": [
    "https://leetcode.com/problems/two-sum-ii-input-array-is-sorted/"
   ]
  },
  {
   "cell_type": "code",
   "execution_count": null,
   "metadata": {},
   "outputs": [],
   "source": [
    "class Solution:\n",
    "    def twoSum(self, numbers: List[int], target: int) -> List[int]:\n",
    "        right = len(numbers)-1\n",
    "        left=0\n",
    "        while left< right:\n",
    "            if numbers[left] + numbers[right] == target:\n",
    "                return [left+1, right+1]\n",
    "            elif numbers[left] + numbers[right] > target:\n",
    "                right-= 1\n",
    "            else:\n",
    "                left+=1\n"
   ]
  }
 ],
 "metadata": {
  "kernelspec": {
   "display_name": "Python 3",
   "language": "python",
   "name": "python3"
  },
  "language_info": {
   "name": "python",
   "version": "3.11.3"
  },
  "orig_nbformat": 4
 },
 "nbformat": 4,
 "nbformat_minor": 2
}
