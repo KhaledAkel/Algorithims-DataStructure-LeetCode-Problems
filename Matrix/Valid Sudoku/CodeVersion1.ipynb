{
 "cells": [
  {
   "attachments": {},
   "cell_type": "markdown",
   "metadata": {},
   "source": [
    "## Link: https://leetcode.com/problems/valid-sudoku/description/"
   ]
  },
  {
   "cell_type": "code",
   "execution_count": null,
   "metadata": {},
   "outputs": [],
   "source": [
    "# Valid Sudoku\n",
    "\n",
    "class Solution(object):\n",
    "    def isValidSudoku(self, board):\n",
    "        \"\"\"\n",
    "        :type board: List[List[str]]\n",
    "        :rtype: bool\n",
    "        \"\"\"\n",
    "        lis = []\n",
    "        for i in range(9):\n",
    "            for j in range(9):\n",
    "                num = board[i][j]\n",
    "                if num != '.':\n",
    "                    lis += [(i, num), (num, j), (i // 3, j // 3, num)]\n",
    "        return len(lis) == len(set(lis))"
   ]
  }
 ],
 "metadata": {
  "kernelspec": {
   "display_name": "Python 3",
   "language": "python",
   "name": "python3"
  },
  "language_info": {
   "name": "python",
   "version": "3.10.10 (tags/v3.10.10:aad5f6a, Feb  7 2023, 17:20:36) [MSC v.1929 64 bit (AMD64)]"
  },
  "orig_nbformat": 4,
  "vscode": {
   "interpreter": {
    "hash": "ec4363d6f1edb241da9638c8917a4c683d1f8dd7bb350a8ae0e94cf6964a07d9"
   }
  }
 },
 "nbformat": 4,
 "nbformat_minor": 2
}
