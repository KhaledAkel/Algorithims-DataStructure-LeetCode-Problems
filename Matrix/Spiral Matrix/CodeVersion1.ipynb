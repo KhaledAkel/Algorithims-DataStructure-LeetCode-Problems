{
 "cells": [
  {
   "attachments": {},
   "cell_type": "markdown",
   "metadata": {},
   "source": [
    "https://leetcode.com/problems/spiral-matrix/"
   ]
  },
  {
   "cell_type": "code",
   "execution_count": null,
   "metadata": {},
   "outputs": [],
   "source": [
    "class Solution:\n",
    "    def spiralOrder(self, matrix: List[List[int]]) -> List[int]:\n",
    "        l,t=0,0\n",
    "        r = len(matrix[0])\n",
    "        b = len(matrix)\n",
    "        output = []\n",
    "\n",
    "        while l < r and t < b:\n",
    "            for i in range(l,r):\n",
    "                output.append(matrix[t][i])\n",
    "            t += 1\n",
    "\n",
    "            for i in range(t,b):\n",
    "                output.append(matrix[i][r-1])\n",
    "\n",
    "            r -= 1\n",
    "\n",
    "            if not (l< r and t < b):\n",
    "                break\n",
    "\n",
    "            for i in range(r-1,l-1,-1):\n",
    "                output.append(matrix[b-1][i])\n",
    "            b -= 1\n",
    "\n",
    "            for i in range(b - 1, t- 1, -1):\n",
    "                output.append(matrix[i][l])\n",
    "            l += 1\n",
    "\n",
    "\n",
    "        return output"
   ]
  }
 ],
 "metadata": {
  "language_info": {
   "name": "python"
  },
  "orig_nbformat": 4
 },
 "nbformat": 4,
 "nbformat_minor": 2
}
