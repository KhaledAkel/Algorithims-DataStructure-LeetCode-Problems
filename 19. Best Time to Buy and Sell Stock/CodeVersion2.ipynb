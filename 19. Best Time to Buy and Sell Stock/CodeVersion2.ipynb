{
 "cells": [
  {
   "cell_type": "code",
   "execution_count": null,
   "metadata": {},
   "outputs": [],
   "source": [
    "class Solution:\n",
    "    def maxProfit(self, prices: List[int]) -> int:\n",
    "        # Looping through the array using two Ponters:- Pointer1 will detect day of buying - Another Pointer2 will detect the best day to sell. \n",
    "\n",
    "        Pointer1, Pointer2 = 0,1\n",
    "        max = 0\n",
    "        while Pointer2 < len(prices):\n",
    "            if prices[Pointer2] - prices[Pointer1] < 0:\n",
    "                Pointer1 = Pointer2\n",
    "                Pointer2 += 1\n",
    "            else:\n",
    "                if max < prices[Pointer2] - prices[Pointer1]:\n",
    "                    max = prices[Pointer2] - prices[Pointer1]\n",
    "                Pointer2 += 1\n",
    "        return max\n",
    "            "
   ]
  },
  {
   "attachments": {},
   "cell_type": "markdown",
   "metadata": {},
   "source": [
    "Probelm Link: https://leetcode.com/problems/best-time-to-buy-and-sell-stock/"
   ]
  }
 ],
 "metadata": {
  "language_info": {
   "name": "python"
  },
  "orig_nbformat": 4
 },
 "nbformat": 4,
 "nbformat_minor": 2
}
