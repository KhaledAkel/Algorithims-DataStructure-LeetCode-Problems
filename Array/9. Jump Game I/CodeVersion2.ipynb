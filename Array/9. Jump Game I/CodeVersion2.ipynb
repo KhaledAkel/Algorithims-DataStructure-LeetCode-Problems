{
 "cells": [
  {
   "attachments": {},
   "cell_type": "markdown",
   "metadata": {},
   "source": [
    "Problem Link: https://leetcode.com/problems/jump-game/description/"
   ]
  },
  {
   "cell_type": "code",
   "execution_count": null,
   "metadata": {},
   "outputs": [],
   "source": [
    "# Jump Game\n",
    "\n",
    "class Solution:\n",
    "    def canJump(self, nums: List[int]) -> bool:\n",
    "        \n",
    "        def CheckPosition(position):\n",
    "            if position == len(nums) - 1:\n",
    "                return True\n",
    "\n",
    "            steps = min(position + nums[position], len(nums)-1)\n",
    "            for i in range(position+1, steps+1):\n",
    "                if CheckPosition(i):\n",
    "                    return True\n",
    "            return False\n",
    "        return CheckPosition(0)"
   ]
  }
 ],
 "metadata": {
  "kernelspec": {
   "display_name": "Python 3",
   "language": "python",
   "name": "python3"
  },
  "language_info": {
   "name": "python",
   "version": "3.11.3"
  },
  "orig_nbformat": 4
 },
 "nbformat": 4,
 "nbformat_minor": 2
}
