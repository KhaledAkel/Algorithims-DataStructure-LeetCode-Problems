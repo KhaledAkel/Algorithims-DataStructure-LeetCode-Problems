{
 "cells": [
  {
   "attachments": {},
   "cell_type": "markdown",
   "metadata": {},
   "source": [
    "https://leetcode.com/problems/substring-with-concatenation-of-all-words/"
   ]
  },
  {
   "cell_type": "code",
   "execution_count": null,
   "metadata": {},
   "outputs": [],
   "source": [
    "class Solution:\n",
    "    def findSubstring(self, s: str, words: List[str]) -> List[int]:\n",
    "        HashMap = {} # Set for saving the words appeared while looping\n",
    "        l = 0\n",
    "        result =[]\n",
    "        for word in words:\n",
    "            if word not in HashMap.keys():\n",
    "                HashMap[word] = 0\n",
    "            HashMap[word] += 1\n",
    "        \n",
    "        add = len(words[0])\n",
    "        sub = add*len(words)\n",
    "        if len(s) < 0:\n",
    "            return []\n",
    "        if len(s) == 1 and len(words) == 1:\n",
    "            return [0]\n",
    "\n",
    "        for i in range(len(s)-add):\n",
    "            word = s[i:i+add]\n",
    "            if word in HashMap.keys():\n",
    "                copy = HashMap.copy()\n",
    "                l = i\n",
    "                while word in copy.keys() and l <= len(s)-add:\n",
    "                    if copy[word] > 0:\n",
    "                        copy[word]-=1\n",
    "                    if copy[word] == 0:\n",
    "                        del copy[word]\n",
    "                    if not copy:\n",
    "                        result.append(i)\n",
    "                    l += add\n",
    "                    word = s[l:l+add]\n",
    "        return result"
   ]
  }
 ],
 "metadata": {
  "kernelspec": {
   "display_name": "Python 3",
   "language": "python",
   "name": "python3"
  },
  "language_info": {
   "name": "python",
   "version": "3.11.3"
  },
  "orig_nbformat": 4
 },
 "nbformat": 4,
 "nbformat_minor": 2
}
