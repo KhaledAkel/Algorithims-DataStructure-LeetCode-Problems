{
 "cells": [
  {
   "cell_type": "markdown",
   "metadata": {},
   "source": [
    "https://leetcode.com/problems/minimum-number-of-arrows-to-burst-balloons"
   ]
  },
  {
   "cell_type": "code",
   "execution_count": null,
   "metadata": {},
   "outputs": [],
   "source": [
    "class Solution:\n",
    "    def findMinArrowShots(self, points: List[List[int]]) -> int:\n",
    "        if not points:\n",
    "            return 0\n",
    "\n",
    "        sorted_intervals = sorted(points, key=lambda point: point[1])\n",
    "        current_end = sorted_intervals[0][1]\n",
    "        arrows = 1\n",
    "\n",
    "        for i in range(1, len(sorted_intervals)):\n",
    "            new_start, new_end = sorted_intervals[i]\n",
    "            if current_end < new_start:\n",
    "                arrows += 1\n",
    "                current_end = new_end\n",
    "\n",
    "        return arrows"
   ]
  }
 ],
 "metadata": {
  "language_info": {
   "name": "python"
  },
  "orig_nbformat": 4
 },
 "nbformat": 4,
 "nbformat_minor": 2
}
