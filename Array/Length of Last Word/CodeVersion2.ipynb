{
 "cells": [
  {
   "attachments": {},
   "cell_type": "markdown",
   "metadata": {},
   "source": [
    "Problem Link: https://leetcode.com/problems/length-of-last-word/"
   ]
  },
  {
   "cell_type": "code",
   "execution_count": 2,
   "metadata": {},
   "outputs": [],
   "source": [
    "# Length of Last Word\n",
    "\n",
    "class Solution:\n",
    "    def lengthOfLastWord(self, s: str) -> int:\n",
    "        # Solving without using Built in Function like .split()\n",
    "        words=[]\n",
    "        pointer=0\n",
    "        for i in range(len(s)):\n",
    "            if s[i] == \" \":\n",
    "                if len(s[pointer:i]) != 0:\n",
    "                    words += [s[pointer:i]]\n",
    "                pointer = i+1\n",
    "        if s[-1] != \" \":\n",
    "            words += [s[pointer::]]\n",
    "        if len(words) == 0:\n",
    "            return len(s)\n",
    "        else:\n",
    "            return len(words[-1])"
   ]
  }
 ],
 "metadata": {
  "kernelspec": {
   "display_name": "Python 3",
   "language": "python",
   "name": "python3"
  },
  "language_info": {
   "codemirror_mode": {
    "name": "ipython",
    "version": 3
   },
   "file_extension": ".py",
   "mimetype": "text/x-python",
   "name": "python",
   "nbconvert_exporter": "python",
   "pygments_lexer": "ipython3",
   "version": "3.11.3"
  },
  "orig_nbformat": 4
 },
 "nbformat": 4,
 "nbformat_minor": 2
}
