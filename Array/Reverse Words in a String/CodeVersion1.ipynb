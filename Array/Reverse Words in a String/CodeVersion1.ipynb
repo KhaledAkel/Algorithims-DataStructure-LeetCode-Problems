{
 "cells": [
  {
   "attachments": {},
   "cell_type": "markdown",
   "metadata": {},
   "source": [
    "Link : https://leetcode.com/problems/reverse-words-in-a-string/"
   ]
  },
  {
   "cell_type": "code",
   "execution_count": null,
   "metadata": {},
   "outputs": [],
   "source": [
    "class Solution:\n",
    "    def reverseWords(self, s: str) -> str:\n",
    "        i, j = 0, 0\n",
    "        newS = \"\"\n",
    "        words = []\n",
    "        word = \"\"\n",
    "        while i < len(s):\n",
    "            if s[i] != \" \":\n",
    "                j = i\n",
    "                word = \"\"\n",
    "                while j < len(s) and s[j] != \" \":\n",
    "                    word += s[j]\n",
    "                    j += 1\n",
    "                    i += 1\n",
    "                words += [word]\n",
    "            i += 1\n",
    "        \n",
    "        for i in range(len(words)-1, -1, -1):\n",
    "            if i != 0:\n",
    "                newS += words[i] + \" \"\n",
    "            else:\n",
    "                newS += words[i]\n",
    "        return newS"
   ]
  }
 ],
 "metadata": {
  "language_info": {
   "name": "python"
  },
  "orig_nbformat": 4
 },
 "nbformat": 4,
 "nbformat_minor": 2
}
