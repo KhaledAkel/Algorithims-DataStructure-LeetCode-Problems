{
 "cells": [
  {
   "attachments": {},
   "cell_type": "markdown",
   "metadata": {},
   "source": [
    "https://leetcode.com/problems/minimum-size-subarray-sum/"
   ]
  },
  {
   "cell_type": "code",
   "execution_count": null,
   "metadata": {},
   "outputs": [],
   "source": [
    "class Solution:\n",
    "    def minSubArrayLen(self, target: int, nums: List[int]) -> int:\n",
    "        start, end, curr_sum = 0, 0, 0\n",
    "        minlength = float(\"inf\")\n",
    "\n",
    "        while end < len(nums):\n",
    "            curr_sum += nums[end]\n",
    "            end+=1\n",
    "\n",
    "            while start<end and curr_sum >= target:\n",
    "                curr_sum -= nums[start]\n",
    "                start += 1\n",
    "\n",
    "                minlength = min(minlength, end-start+1)\n",
    "\n",
    "        \n",
    "        return minlength if minlength <float(\"inf\") else 0\n",
    "\n",
    "\n"
   ]
  }
 ],
 "metadata": {
  "kernelspec": {
   "display_name": "Python 3",
   "language": "python",
   "name": "python3"
  },
  "language_info": {
   "name": "python",
   "version": "3.11.3"
  },
  "orig_nbformat": 4
 },
 "nbformat": 4,
 "nbformat_minor": 2
}
