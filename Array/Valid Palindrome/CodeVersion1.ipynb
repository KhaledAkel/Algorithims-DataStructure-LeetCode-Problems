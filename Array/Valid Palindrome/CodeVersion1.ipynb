{
 "cells": [
  {
   "attachments": {},
   "cell_type": "markdown",
   "metadata": {},
   "source": [
    "https://leetcode.com/problems/valid-palindrome/"
   ]
  },
  {
   "cell_type": "code",
   "execution_count": null,
   "metadata": {},
   "outputs": [],
   "source": [
    "class Solution:\n",
    "    def isPalindrome(self, s: str) -> bool:\n",
    "        alphanumeric = ''\n",
    "        for char in s:\n",
    "            if char.isalnum():\n",
    "                alphanumeric += char.lower()\n",
    "        \n",
    "        n = len(alphanumeric)\n",
    "        \n",
    "        if n < 2:\n",
    "            return True\n",
    "        \n",
    "        for i in range(n//2):\n",
    "            if alphanumeric[i] != alphanumeric[-(i+1)]:\n",
    "                return False\n",
    "        \n",
    "        return True"
   ]
  }
 ],
 "metadata": {
  "kernelspec": {
   "display_name": "Python 3",
   "language": "python",
   "name": "python3"
  },
  "language_info": {
   "name": "python",
   "version": "3.11.3"
  },
  "orig_nbformat": 4
 },
 "nbformat": 4,
 "nbformat_minor": 2
}
