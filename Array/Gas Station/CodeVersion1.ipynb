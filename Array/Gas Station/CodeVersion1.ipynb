{
 "cells": [
  {
   "attachments": {},
   "cell_type": "markdown",
   "metadata": {},
   "source": [
    "Link : https://leetcode.com/problems/gas-station/"
   ]
  },
  {
   "cell_type": "code",
   "execution_count": null,
   "metadata": {},
   "outputs": [],
   "source": [
    "def canCompleteCircuit(gas, cost):\n",
    "    i, j = 0 , 0\n",
    "    tank = 0\n",
    "\n",
    "    while i < len(cost):\n",
    "\n",
    "        if tank + gas[i-len(gas)] >= cost[i-len(cost)] and j - len(gas) < len(gas) -1:\n",
    "            j = i\n",
    "            while tank + gas[j-len(gas)] >= cost[j-len(cost)]:\n",
    "                tank += gas[j-len(gas)] - cost[j-len(cost)]\n",
    "                j += 1\n",
    "                if j - len(gas) == i :\n",
    "                    return i\n",
    "\n",
    "\n",
    "        i  += 1\n",
    "    return -1"
   ]
  }
 ],
 "metadata": {
  "language_info": {
   "name": "python"
  },
  "orig_nbformat": 4
 },
 "nbformat": 4,
 "nbformat_minor": 2
}
