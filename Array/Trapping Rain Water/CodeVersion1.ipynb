{
 "cells": [
  {
   "attachments": {},
   "cell_type": "markdown",
   "metadata": {},
   "source": [
    "Problem : https://leetcode.com/problems/trapping-rain-water/description/"
   ]
  },
  {
   "cell_type": "code",
   "execution_count": null,
   "metadata": {},
   "outputs": [],
   "source": [
    "class Solution:\n",
    "    def trap(self, height: List[int]) -> int:\n",
    "        output =0\n",
    "        for i in range(len(height)-1):\n",
    "            leftmax = max(height[:i+1])\n",
    "            rightmax = max(height[i:])\n",
    "            water = min(leftmax, rightmax)-height[i]\n",
    "            if water > 0:\n",
    "                output += water\n",
    "            \n",
    "        return output\n",
    "\n"
   ]
  }
 ],
 "metadata": {
  "kernelspec": {
   "display_name": "Python 3",
   "language": "python",
   "name": "python3"
  },
  "language_info": {
   "name": "python",
   "version": "3.11.3"
  },
  "orig_nbformat": 4
 },
 "nbformat": 4,
 "nbformat_minor": 2
}
