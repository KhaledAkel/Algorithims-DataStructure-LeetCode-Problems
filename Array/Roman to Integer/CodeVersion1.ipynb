{
 "cells": [
  {
   "attachments": {},
   "cell_type": "markdown",
   "metadata": {},
   "source": [
    "$LeetCode$\n",
    "$Link:$ https://leetcode.com/problems/roman-to-integer/description/"
   ]
  },
  {
   "cell_type": "code",
   "execution_count": null,
   "metadata": {},
   "outputs": [],
   "source": [
    "# Roman to Integer\n",
    "\n",
    "class Solution(object):\n",
    "    def romanToInt(self, s):\n",
    "        \"\"\"\n",
    "        :type s: str\n",
    "        :rtype: int\n",
    "        \"\"\"\n",
    "        result=0\n",
    "        i=0\n",
    "        HashMap = {\"I\":1, \"IV\":4, \"V\":5, \"IX\":9, \"X\":10, \"XL\":40, \"L\":50, \"XC\":90, \"C\":100, \"CD\":400, \"D\":500, \"CM\":900, \"M\":1000}\n",
    "        while i < len(s)-1:\n",
    "\n",
    "                if s[i] == \"I\" and ((s[i+1] == \"V\") or(s[i+1] == \"X\")):\n",
    "                    result += HashMap[s[i] + s[i+1]]\n",
    "                    i += 2\n",
    "                elif s[i] == \"X\" and ((s[i+1] == \"L\") or(s[i+1] == \"C\")):\n",
    "                    result += HashMap[s[i] + s[i+1]]\n",
    "                    i += 2\n",
    "                elif s[i] == \"C\" and ((s[i+1] == \"D\") or(s[i+1] == \"M\")):\n",
    "                    result += HashMap[s[i] + s[i+1]]\n",
    "                    i += 2\n",
    "                else:\n",
    "                    result += HashMap[s[i]]\n",
    "                    i += 1\n",
    "        if i == len(s)-1:\n",
    "            result += HashMap[s[i]]\n",
    "            i += 1\n",
    "\n",
    "        return result\n",
    "            \n",
    "\n",
    "\n",
    "                "
   ]
  }
 ],
 "metadata": {
  "kernelspec": {
   "display_name": "Python 3",
   "language": "python",
   "name": "python3"
  },
  "language_info": {
   "codemirror_mode": {
    "name": "ipython",
    "version": 3
   },
   "file_extension": ".py",
   "mimetype": "text/x-python",
   "name": "python",
   "nbconvert_exporter": "python",
   "pygments_lexer": "ipython3",
   "version": "3.10.10 (tags/v3.10.10:aad5f6a, Feb  7 2023, 17:20:36) [MSC v.1929 64 bit (AMD64)]"
  },
  "orig_nbformat": 4,
  "vscode": {
   "interpreter": {
    "hash": "ec4363d6f1edb241da9638c8917a4c683d1f8dd7bb350a8ae0e94cf6964a07d9"
   }
  }
 },
 "nbformat": 4,
 "nbformat_minor": 2
}
