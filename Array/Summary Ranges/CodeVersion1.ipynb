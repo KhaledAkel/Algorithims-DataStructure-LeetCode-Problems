{
 "cells": [
  {
   "cell_type": "markdown",
   "metadata": {},
   "source": [
    "https://leetcode.com/problems/summary-ranges/"
   ]
  },
  {
   "cell_type": "code",
   "execution_count": null,
   "metadata": {},
   "outputs": [],
   "source": [
    "class Solution:\n",
    "    def summaryRanges(self, nums: List[int]) -> List[str]:\n",
    "        output = []\n",
    "        start,i = 0,0\n",
    "\n",
    "        if len(nums) == 0:\n",
    "            return []\n",
    "        if len(nums) == 1:\n",
    "            return [str(nums[0])]\n",
    "\n",
    "\n",
    "        for i in range(1, len(nums)):\n",
    "            if nums[i] != nums[i-1]+1:\n",
    "                if start == i-1:\n",
    "                    output.append(str(nums[start]))\n",
    "                else:\n",
    "                    output.append(str(nums[start])+\"->\"+str(nums[i-1]))\n",
    "                start = i\n",
    "\n",
    "        if nums[start] == nums[-1]:\n",
    "            output.append(str(nums[start]))\n",
    "        else:\n",
    "            output.append(str(nums[start])+\"->\"+str(nums[i]))\n",
    "\n",
    "\n",
    "        return output"
   ]
  }
 ],
 "metadata": {
  "language_info": {
   "name": "python"
  },
  "orig_nbformat": 4
 },
 "nbformat": 4,
 "nbformat_minor": 2
}
