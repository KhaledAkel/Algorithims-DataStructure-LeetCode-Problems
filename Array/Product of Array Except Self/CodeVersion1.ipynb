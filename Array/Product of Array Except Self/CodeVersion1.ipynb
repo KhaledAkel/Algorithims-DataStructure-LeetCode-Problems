{
 "cells": [
  {
   "attachments": {},
   "cell_type": "markdown",
   "metadata": {},
   "source": [
    "Link : https://leetcode.com/problems/product-of-array-except-self/"
   ]
  },
  {
   "cell_type": "code",
   "execution_count": null,
   "metadata": {},
   "outputs": [],
   "source": [
    "class Solution:\n",
    "    def productExceptSelf(self, nums: List[int]) -> List[int]:\n",
    "        before, after = 1, 1\n",
    "        answer=[1]*len(nums)\n",
    "\n",
    "        for i in range(1,len(nums)):\n",
    "            before *= nums[i-1]\n",
    "            answer[i] = before\n",
    "        \n",
    "        for i in range(len(nums)-2,-1,-1 ):\n",
    "            after *= nums[i+1]\n",
    "            answer[i] *= after\n",
    "        return answer"
   ]
  }
 ],
 "metadata": {
  "language_info": {
   "name": "python"
  },
  "orig_nbformat": 4
 },
 "nbformat": 4,
 "nbformat_minor": 2
}
