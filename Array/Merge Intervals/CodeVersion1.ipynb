{
 "cells": [
  {
   "cell_type": "markdown",
   "metadata": {},
   "source": [
    "https://leetcode.com/problems/merge-intervals/description"
   ]
  },
  {
   "cell_type": "code",
   "execution_count": null,
   "metadata": {},
   "outputs": [],
   "source": [
    "class Solution:\n",
    "    def merge(self, intervals: List[List[int]]) -> List[List[int]]:\n",
    "        intervals=sorted(intervals)\n",
    "        res=[intervals[0]]\n",
    "        for start,end in intervals[1:]:\n",
    "            lastEnd=res[-1][1]\n",
    "            if lastEnd>=start:\n",
    "                res[-1][1]=max(lastEnd,end)\n",
    "            else:\n",
    "                res.append([start,end])\n",
    "        return res"
   ]
  }
 ],
 "metadata": {
  "language_info": {
   "name": "python"
  },
  "orig_nbformat": 4
 },
 "nbformat": 4,
 "nbformat_minor": 2
}
