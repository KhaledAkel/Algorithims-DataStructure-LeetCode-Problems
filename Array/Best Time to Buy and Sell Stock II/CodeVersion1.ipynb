{
 "cells": [
  {
   "cell_type": "code",
   "execution_count": null,
   "metadata": {},
   "outputs": [],
   "source": [
    "class Solution:\n",
    "    def maxProfit(self, prices: List[int]) -> int:\n",
    "        Pointer1, Pointer2 = 0,1\n",
    "        max = 0\n",
    "        while Pointer2 < len(prices):\n",
    "            if prices[Pointer2] - prices[Pointer1] < 0:\n",
    "                Pointer1 = Pointer2\n",
    "                Pointer2 += 1\n",
    "            else:\n",
    "                max += prices[Pointer2] - prices[Pointer1]\n",
    "                \n",
    "                Pointer1 += 1\n",
    "                Pointer2 += 1\n",
    "        return max"
   ]
  },
  {
   "attachments": {},
   "cell_type": "markdown",
   "metadata": {},
   "source": [
    "Probelm Link: https://leetcode.com/problems/best-time-to-buy-and-sell-stock-ii/"
   ]
  }
 ],
 "metadata": {
  "language_info": {
   "name": "python"
  },
  "orig_nbformat": 4
 },
 "nbformat": 4,
 "nbformat_minor": 2
}
