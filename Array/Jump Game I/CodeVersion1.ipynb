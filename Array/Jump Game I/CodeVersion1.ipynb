{
 "cells": [
  {
   "attachments": {},
   "cell_type": "markdown",
   "metadata": {},
   "source": [
    "Problem Link: https://leetcode.com/problems/jump-game/description/"
   ]
  },
  {
   "cell_type": "code",
   "execution_count": null,
   "metadata": {},
   "outputs": [],
   "source": [
    "# Jump Game\n",
    "\n",
    "class Solution:\n",
    "    def canJump(self, nums: List[int]) -> bool:\n",
    "        Goal = -1\n",
    "        Pointer = -2\n",
    "\n",
    "        while Pointer >= -len(nums):\n",
    "            if (nums[Pointer] -((-Pointer) - (-Goal))) >= 0:\n",
    "                Goal = Pointer\n",
    "            Pointer -= 1\n",
    "        return True if Goal == -len(nums) else False"
   ]
  }
 ],
 "metadata": {
  "kernelspec": {
   "display_name": "Python 3",
   "language": "python",
   "name": "python3"
  },
  "language_info": {
   "name": "python",
   "version": "3.11.3"
  },
  "orig_nbformat": 4
 },
 "nbformat": 4,
 "nbformat_minor": 2
}
