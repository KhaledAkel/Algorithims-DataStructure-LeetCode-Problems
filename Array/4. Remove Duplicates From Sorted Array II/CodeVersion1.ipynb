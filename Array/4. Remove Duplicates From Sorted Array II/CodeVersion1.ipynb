{
 "cells": [
  {
   "attachments": {},
   "cell_type": "markdown",
   "metadata": {},
   "source": [
    "LeetCode: https://leetcode.com/problems/remove-duplicates-from-sorted-array-ii/description/?envType=study-plan-v2&envId=top-interview-150"
   ]
  },
  {
   "cell_type": "code",
   "execution_count": null,
   "metadata": {},
   "outputs": [],
   "source": [
    "class Solution:\n",
    "    def removeDuplicates(self, nums: List[int]) -> int:\n",
    "        HashMap = {}\n",
    "        \n",
    "        for i in nums:\n",
    "            if i in HashMap.keys():\n",
    "                HashMap[i] += 1\n",
    "            else:\n",
    "                HashMap[i] = 1\n",
    "\n",
    "        pointer, k = 0, 0\n",
    "        for i in HashMap.keys():\n",
    "            if HashMap[i] > 2:\n",
    "                for j in range(2):\n",
    "                    nums[pointer] = i\n",
    "                    pointer += 1\n",
    "                \n",
    "            else:\n",
    "                for j in range(HashMap[i]):\n",
    "                    nums[pointer] = i\n",
    "                    pointer += 1\n",
    "\n",
    "        return pointer\n",
    "\n",
    "\n",
    "\n",
    "\n",
    "\n",
    "            \n"
   ]
  }
 ],
 "metadata": {
  "kernelspec": {
   "display_name": "Python 3",
   "language": "python",
   "name": "python3"
  },
  "language_info": {
   "codemirror_mode": {
    "name": "ipython",
    "version": 3
   },
   "file_extension": ".py",
   "mimetype": "text/x-python",
   "name": "python",
   "nbconvert_exporter": "python",
   "pygments_lexer": "ipython3",
   "version": "3.11.3"
  },
  "orig_nbformat": 4
 },
 "nbformat": 4,
 "nbformat_minor": 2
}
