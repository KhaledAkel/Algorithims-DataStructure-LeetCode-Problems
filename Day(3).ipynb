{
 "cells": [
  {
   "attachments": {},
   "cell_type": "markdown",
   "metadata": {},
   "source": [
    "## LeetCode ##\n",
    "## Day-3 ##"
   ]
  },
  {
   "cell_type": "code",
   "execution_count": null,
   "metadata": {},
   "outputs": [],
   "source": [
    "# Problem: Search Insert Position\n",
    "\n",
    "class Solution:\n",
    "    def searchInsert(self, nums: List[int], target: int) -> int:\n",
    "        low = 0\n",
    "        high = len(nums) - 1\n",
    "        mid = (low + high)//2\n",
    "\n",
    "\n",
    "        while  high >= low:\n",
    "\n",
    "            if nums[high] < target:\n",
    "                return high + 1\n",
    "            \n",
    "            if nums[low] > target:\n",
    "                return low\n",
    "\n",
    "\n",
    "            if nums[mid] == target:\n",
    "                return mid\n",
    "\n",
    "            if nums[mid] < target:\n",
    "                low = mid + 1\n",
    "           \n",
    "            if nums[mid] > target:\n",
    "                high = mid\n",
    "\n",
    "            mid = (low+high)//2\n",
    "\n",
    "        if target < nums[low]:\n",
    "            return low\n",
    "        else:\n",
    "            return high\n",
    "            \n",
    "\n"
   ]
  }
 ],
 "metadata": {
  "kernelspec": {
   "display_name": "Python 3",
   "language": "python",
   "name": "python3"
  },
  "language_info": {
   "name": "python",
   "version": "3.10.10 (tags/v3.10.10:aad5f6a, Feb  7 2023, 17:20:36) [MSC v.1929 64 bit (AMD64)]"
  },
  "orig_nbformat": 4,
  "vscode": {
   "interpreter": {
    "hash": "ec4363d6f1edb241da9638c8917a4c683d1f8dd7bb350a8ae0e94cf6964a07d9"
   }
  }
 },
 "nbformat": 4,
 "nbformat_minor": 2
}
